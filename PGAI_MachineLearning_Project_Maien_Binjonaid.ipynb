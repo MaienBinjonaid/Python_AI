{
  "nbformat": 4,
  "nbformat_minor": 0,
  "metadata": {
    "colab": {
      "name": "PGAI_MachineLearning_Project_Maien_Binjonaid.ipynb",
      "provenance": [],
      "collapsed_sections": []
    },
    "kernelspec": {
      "name": "python3",
      "display_name": "Python 3"
    },
    "language_info": {
      "name": "python"
    }
  },
  "cells": [
    {
      "cell_type": "code",
      "metadata": {
        "id": "HcmOOzU8QZ2I"
      },
      "source": [
        "#Building a user-based recommendation model\n",
        "#Maien Binjonaid\n",
        "\n",
        "#First - Import useful libraries "
      ],
      "execution_count": null,
      "outputs": []
    },
    {
      "cell_type": "code",
      "metadata": {
        "id": "WUFu6z4SYbIJ"
      },
      "source": [
        "import numpy as np\n",
        "import pandas as pd\n",
        "from sklearn.model_selection import train_test_split"
      ],
      "execution_count": null,
      "outputs": []
    },
    {
      "cell_type": "code",
      "metadata": {
        "id": "W5Dl-hCCYvV9"
      },
      "source": [
        "#Step 1: Importing data\n",
        "df = pd.read_csv ('/content/AmazonMoviesandTVRatings.csv')"
      ],
      "execution_count": null,
      "outputs": []
    },
    {
      "cell_type": "code",
      "metadata": {
        "colab": {
          "base_uri": "https://localhost:8080/"
        },
        "id": "9XB7ZFbNZ1YG",
        "outputId": "d584f1ee-878f-45e5-c7d4-0ea871db984d"
      },
      "source": [
        "#Step 2: Explore the data\n",
        "print(df)"
      ],
      "execution_count": null,
      "outputs": [
        {
          "output_type": "stream",
          "name": "stdout",
          "text": [
            "             user_id  Movie1  Movie2  ...  Movie204  Movie205  Movie206\n",
            "0     A3R5OBKS7OM2IR     5.0     5.0  ...       NaN       NaN       NaN\n",
            "1      AH3QC2PC1VTGP     NaN     NaN  ...       NaN       NaN       NaN\n",
            "2     A3LKP6WPMP9UKX     NaN     NaN  ...       NaN       NaN       NaN\n",
            "3      AVIY68KEPQ5ZD     NaN     NaN  ...       NaN       NaN       NaN\n",
            "4     A1CV1WROP5KTTW     NaN     NaN  ...       NaN       NaN       NaN\n",
            "...              ...     ...     ...  ...       ...       ...       ...\n",
            "4843  A1IMQ9WMFYKWH5     NaN     NaN  ...       NaN       NaN       5.0\n",
            "4844  A1KLIKPUF5E88I     NaN     NaN  ...       NaN       NaN       5.0\n",
            "4845   A5HG6WFZLO10D     NaN     NaN  ...       NaN       NaN       5.0\n",
            "4846  A3UU690TWXCG1X     NaN     NaN  ...       NaN       NaN       5.0\n",
            "4847   AI4J762YI6S06     NaN     NaN  ...       NaN       NaN       5.0\n",
            "\n",
            "[4848 rows x 207 columns]\n"
          ]
        }
      ]
    },
    {
      "cell_type": "code",
      "metadata": {
        "colab": {
          "base_uri": "https://localhost:8080/"
        },
        "id": "rkQHpvSDa5w_",
        "outputId": "bea2cd97-34b1-444b-bfa0-20641035421a"
      },
      "source": [
        "#Step 3: check number of nans (no ratings) as it will be useful later on.\n",
        "df.isnull().sum()"
      ],
      "execution_count": null,
      "outputs": [
        {
          "output_type": "execute_result",
          "data": {
            "text/plain": [
              "user_id        0\n",
              "Movie1      4847\n",
              "Movie2      4847\n",
              "Movie3      4847\n",
              "Movie4      4846\n",
              "            ... \n",
              "Movie202    4842\n",
              "Movie203    4847\n",
              "Movie204    4840\n",
              "Movie205    4813\n",
              "Movie206    4835\n",
              "Length: 207, dtype: int64"
            ]
          },
          "metadata": {},
          "execution_count": 149
        }
      ]
    },
    {
      "cell_type": "code",
      "metadata": {
        "colab": {
          "base_uri": "https://localhost:8080/"
        },
        "id": "FfDAQN2DgO3Q",
        "outputId": "5a9a5d73-4be7-4b08-f39f-ed929a546f12"
      },
      "source": [
        "#Step 4: check the mean and add it as a new row at the end\n",
        "df.loc['mean'] = df.mean()\n",
        "print(df)"
      ],
      "execution_count": null,
      "outputs": [
        {
          "output_type": "stream",
          "name": "stdout",
          "text": [
            "             user_id  Movie1  Movie2  ...  Movie204  Movie205  Movie206\n",
            "0     A3R5OBKS7OM2IR     5.0     5.0  ...       NaN       NaN       NaN\n",
            "1      AH3QC2PC1VTGP     NaN     NaN  ...       NaN       NaN       NaN\n",
            "2     A3LKP6WPMP9UKX     NaN     NaN  ...       NaN       NaN       NaN\n",
            "3      AVIY68KEPQ5ZD     NaN     NaN  ...       NaN       NaN       NaN\n",
            "4     A1CV1WROP5KTTW     NaN     NaN  ...       NaN       NaN       NaN\n",
            "...              ...     ...     ...  ...       ...       ...       ...\n",
            "4844  A1KLIKPUF5E88I     NaN     NaN  ...       NaN       NaN  5.000000\n",
            "4845   A5HG6WFZLO10D     NaN     NaN  ...       NaN       NaN  5.000000\n",
            "4846  A3UU690TWXCG1X     NaN     NaN  ...       NaN       NaN  5.000000\n",
            "4847   AI4J762YI6S06     NaN     NaN  ...       NaN       NaN  5.000000\n",
            "mean             NaN     5.0     5.0  ...     4.375  4.628571  4.923077\n",
            "\n",
            "[4849 rows x 207 columns]\n"
          ]
        }
      ]
    },
    {
      "cell_type": "code",
      "metadata": {
        "colab": {
          "base_uri": "https://localhost:8080/"
        },
        "id": "QnkG0RDokpQZ",
        "outputId": "10c6964d-12d6-4b08-ef3a-5a4da0f1a307"
      },
      "source": [
        "#Step 5: I will add a new row to show the number of nans\n",
        "df.loc['nans']=df.isnull().sum()\n",
        "print(df)\n"
      ],
      "execution_count": null,
      "outputs": [
        {
          "output_type": "stream",
          "name": "stdout",
          "text": [
            "             user_id  Movie1  Movie2  ...  Movie204     Movie205     Movie206\n",
            "0     A3R5OBKS7OM2IR     5.0     5.0  ...       NaN          NaN          NaN\n",
            "1      AH3QC2PC1VTGP     NaN     NaN  ...       NaN          NaN          NaN\n",
            "2     A3LKP6WPMP9UKX     NaN     NaN  ...       NaN          NaN          NaN\n",
            "3      AVIY68KEPQ5ZD     NaN     NaN  ...       NaN          NaN          NaN\n",
            "4     A1CV1WROP5KTTW     NaN     NaN  ...       NaN          NaN          NaN\n",
            "...              ...     ...     ...  ...       ...          ...          ...\n",
            "4845   A5HG6WFZLO10D     NaN     NaN  ...       NaN          NaN     5.000000\n",
            "4846  A3UU690TWXCG1X     NaN     NaN  ...       NaN          NaN     5.000000\n",
            "4847   AI4J762YI6S06     NaN     NaN  ...       NaN          NaN     5.000000\n",
            "mean             NaN     5.0     5.0  ...     4.375     4.628571     4.923077\n",
            "nans               1  4847.0  4847.0  ...  4840.000  4813.000000  4835.000000\n",
            "\n",
            "[4850 rows x 207 columns]\n"
          ]
        }
      ]
    },
    {
      "cell_type": "code",
      "metadata": {
        "colab": {
          "base_uri": "https://localhost:8080/",
          "height": 81
        },
        "id": "VVqSIrEZj6Q3",
        "outputId": "5327e70c-c893-45da-e426-e65ae7a78092"
      },
      "source": [
        "#TASK 1: I will sort the data based on the number least nans. \n",
        "\n",
        "\n",
        "#Question  1: Which movies have maximum views/ratings?\n",
        "\n",
        "#Answer to Q1: They are the movies with the least Nans. Based on the following\n",
        "# They are movies: 127, 140, 16, 103, 29, 91, which have the most number \n",
        "# of views/ratings.\n",
        "\n",
        "dfSortedByNans_1 = df.sort_values(by='nans', axis=1,ascending=True)\n",
        "dfSortedByNans_1.iloc[-1: , 2:7]\n"
      ],
      "execution_count": null,
      "outputs": [
        {
          "output_type": "execute_result",
          "data": {
            "text/html": [
              "<div>\n",
              "<style scoped>\n",
              "    .dataframe tbody tr th:only-of-type {\n",
              "        vertical-align: middle;\n",
              "    }\n",
              "\n",
              "    .dataframe tbody tr th {\n",
              "        vertical-align: top;\n",
              "    }\n",
              "\n",
              "    .dataframe thead th {\n",
              "        text-align: right;\n",
              "    }\n",
              "</style>\n",
              "<table border=\"1\" class=\"dataframe\">\n",
              "  <thead>\n",
              "    <tr style=\"text-align: right;\">\n",
              "      <th></th>\n",
              "      <th>Movie140</th>\n",
              "      <th>Movie16</th>\n",
              "      <th>Movie103</th>\n",
              "      <th>Movie29</th>\n",
              "      <th>Movie91</th>\n",
              "    </tr>\n",
              "  </thead>\n",
              "  <tbody>\n",
              "    <tr>\n",
              "      <th>nans</th>\n",
              "      <td>4270.0</td>\n",
              "      <td>4528.0</td>\n",
              "      <td>4576.0</td>\n",
              "      <td>4605.0</td>\n",
              "      <td>4720.0</td>\n",
              "    </tr>\n",
              "  </tbody>\n",
              "</table>\n",
              "</div>"
            ],
            "text/plain": [
              "      Movie140  Movie16  Movie103  Movie29  Movie91\n",
              "nans    4270.0   4528.0    4576.0   4605.0   4720.0"
            ]
          },
          "metadata": {},
          "execution_count": 152
        }
      ]
    },
    {
      "cell_type": "code",
      "metadata": {
        "colab": {
          "base_uri": "https://localhost:8080/",
          "height": 81
        },
        "id": "2Kb-47k2M6yS",
        "outputId": "16018009-e7f4-4c1e-e955-82e8955aaaeb"
      },
      "source": [
        "#Question 2: What is the average rating for each movie? Define the top 5 movies \n",
        "#with the maximum ratings.\n",
        "#Answer to Q2: After sorting the data based on the mean (average) rating, \n",
        "#we find that many movies received the top rating. As an example, \n",
        "# movies: 76, 75, 74, 72, 143.\n",
        "\n",
        "dfSortedByMean = df.sort_values(by='mean', axis=1, ascending=False)\n",
        "#print(dfSortedByMean)\n",
        "dfSortedByMean.iloc[-2:-1 , 2:7]\n"
      ],
      "execution_count": null,
      "outputs": [
        {
          "output_type": "execute_result",
          "data": {
            "text/html": [
              "<div>\n",
              "<style scoped>\n",
              "    .dataframe tbody tr th:only-of-type {\n",
              "        vertical-align: middle;\n",
              "    }\n",
              "\n",
              "    .dataframe tbody tr th {\n",
              "        vertical-align: top;\n",
              "    }\n",
              "\n",
              "    .dataframe thead th {\n",
              "        text-align: right;\n",
              "    }\n",
              "</style>\n",
              "<table border=\"1\" class=\"dataframe\">\n",
              "  <thead>\n",
              "    <tr style=\"text-align: right;\">\n",
              "      <th></th>\n",
              "      <th>Movie76</th>\n",
              "      <th>Movie75</th>\n",
              "      <th>Movie74</th>\n",
              "      <th>Movie143</th>\n",
              "      <th>Movie72</th>\n",
              "    </tr>\n",
              "  </thead>\n",
              "  <tbody>\n",
              "    <tr>\n",
              "      <th>mean</th>\n",
              "      <td>5.0</td>\n",
              "      <td>5.0</td>\n",
              "      <td>5.0</td>\n",
              "      <td>5.0</td>\n",
              "      <td>5.0</td>\n",
              "    </tr>\n",
              "  </tbody>\n",
              "</table>\n",
              "</div>"
            ],
            "text/plain": [
              "      Movie76  Movie75  Movie74  Movie143  Movie72\n",
              "mean      5.0      5.0      5.0       5.0      5.0"
            ]
          },
          "metadata": {},
          "execution_count": 153
        }
      ]
    },
    {
      "cell_type": "code",
      "metadata": {
        "colab": {
          "base_uri": "https://localhost:8080/",
          "height": 81
        },
        "id": "aB7weW0Sk2Yr",
        "outputId": "6cdcc459-608e-4a68-93ec-f0e91488f067"
      },
      "source": [
        "#Question 3: Define the top 5 movies with the least audience.\n",
        "#Answer to Q3: There are many movies with only 1 view. We can see below that \n",
        "# movies: 74, 73, 72, 71, 69 are amongst the least viewed, \n",
        "# since they contain the most number of Nans.\n",
        "dfSortedByNans_2 = df.sort_values(by='nans', axis=1, ascending=False)\n",
        "#print(dfSortedByNans)\n",
        "dfSortedByNans_2.iloc[-1: , 2:7]"
      ],
      "execution_count": null,
      "outputs": [
        {
          "output_type": "execute_result",
          "data": {
            "text/html": [
              "<div>\n",
              "<style scoped>\n",
              "    .dataframe tbody tr th:only-of-type {\n",
              "        vertical-align: middle;\n",
              "    }\n",
              "\n",
              "    .dataframe tbody tr th {\n",
              "        vertical-align: top;\n",
              "    }\n",
              "\n",
              "    .dataframe thead th {\n",
              "        text-align: right;\n",
              "    }\n",
              "</style>\n",
              "<table border=\"1\" class=\"dataframe\">\n",
              "  <thead>\n",
              "    <tr style=\"text-align: right;\">\n",
              "      <th></th>\n",
              "      <th>Movie74</th>\n",
              "      <th>Movie73</th>\n",
              "      <th>Movie72</th>\n",
              "      <th>Movie71</th>\n",
              "      <th>Movie69</th>\n",
              "    </tr>\n",
              "  </thead>\n",
              "  <tbody>\n",
              "    <tr>\n",
              "      <th>nans</th>\n",
              "      <td>4847.0</td>\n",
              "      <td>4847.0</td>\n",
              "      <td>4847.0</td>\n",
              "      <td>4847.0</td>\n",
              "      <td>4847.0</td>\n",
              "    </tr>\n",
              "  </tbody>\n",
              "</table>\n",
              "</div>"
            ],
            "text/plain": [
              "      Movie74  Movie73  Movie72  Movie71  Movie69\n",
              "nans   4847.0   4847.0   4847.0   4847.0   4847.0"
            ]
          },
          "metadata": {},
          "execution_count": 154
        }
      ]
    },
    {
      "cell_type": "markdown",
      "metadata": {
        "id": "x335wKB0PTo6"
      },
      "source": [
        "Done with Part A. Now off to the recommendation model."
      ]
    },
    {
      "cell_type": "code",
      "metadata": {
        "id": "qJOE3LbXlC_Z"
      },
      "source": [
        "#import the data again to do some modifications on the dataframe.\n",
        "df2 = pd.read_csv ('/content/AmazonMoviesandTVRatings.csv')"
      ],
      "execution_count": null,
      "outputs": []
    },
    {
      "cell_type": "code",
      "metadata": {
        "colab": {
          "base_uri": "https://localhost:8080/"
        },
        "id": "SVEVwVqspuVS",
        "outputId": "f5da1c9d-ffb5-4bd1-b04e-035a4b86693d"
      },
      "source": [
        "print(df2)"
      ],
      "execution_count": null,
      "outputs": [
        {
          "output_type": "stream",
          "name": "stdout",
          "text": [
            "             user_id  Movie1  Movie2  ...  Movie204  Movie205  Movie206\n",
            "0     A3R5OBKS7OM2IR     5.0     5.0  ...       NaN       NaN       NaN\n",
            "1      AH3QC2PC1VTGP     NaN     NaN  ...       NaN       NaN       NaN\n",
            "2     A3LKP6WPMP9UKX     NaN     NaN  ...       NaN       NaN       NaN\n",
            "3      AVIY68KEPQ5ZD     NaN     NaN  ...       NaN       NaN       NaN\n",
            "4     A1CV1WROP5KTTW     NaN     NaN  ...       NaN       NaN       NaN\n",
            "...              ...     ...     ...  ...       ...       ...       ...\n",
            "4843  A1IMQ9WMFYKWH5     NaN     NaN  ...       NaN       NaN       5.0\n",
            "4844  A1KLIKPUF5E88I     NaN     NaN  ...       NaN       NaN       5.0\n",
            "4845   A5HG6WFZLO10D     NaN     NaN  ...       NaN       NaN       5.0\n",
            "4846  A3UU690TWXCG1X     NaN     NaN  ...       NaN       NaN       5.0\n",
            "4847   AI4J762YI6S06     NaN     NaN  ...       NaN       NaN       5.0\n",
            "\n",
            "[4848 rows x 207 columns]\n"
          ]
        }
      ]
    },
    {
      "cell_type": "code",
      "metadata": {
        "colab": {
          "base_uri": "https://localhost:8080/"
        },
        "id": "hbGs-_p3s-Ls",
        "outputId": "d7f5fc22-9841-4973-8590-ae1616fdc5b3"
      },
      "source": [
        "#First I'd like to fill the nans with zeros.\n",
        "df2=df2.fillna(0)\n",
        "print(df2)"
      ],
      "execution_count": null,
      "outputs": [
        {
          "output_type": "stream",
          "name": "stdout",
          "text": [
            "             user_id  Movie1  Movie2  ...  Movie204  Movie205  Movie206\n",
            "0     A3R5OBKS7OM2IR     5.0     5.0  ...       0.0       0.0       0.0\n",
            "1      AH3QC2PC1VTGP     0.0     0.0  ...       0.0       0.0       0.0\n",
            "2     A3LKP6WPMP9UKX     0.0     0.0  ...       0.0       0.0       0.0\n",
            "3      AVIY68KEPQ5ZD     0.0     0.0  ...       0.0       0.0       0.0\n",
            "4     A1CV1WROP5KTTW     0.0     0.0  ...       0.0       0.0       0.0\n",
            "...              ...     ...     ...  ...       ...       ...       ...\n",
            "4843  A1IMQ9WMFYKWH5     0.0     0.0  ...       0.0       0.0       5.0\n",
            "4844  A1KLIKPUF5E88I     0.0     0.0  ...       0.0       0.0       5.0\n",
            "4845   A5HG6WFZLO10D     0.0     0.0  ...       0.0       0.0       5.0\n",
            "4846  A3UU690TWXCG1X     0.0     0.0  ...       0.0       0.0       5.0\n",
            "4847   AI4J762YI6S06     0.0     0.0  ...       0.0       0.0       5.0\n",
            "\n",
            "[4848 rows x 207 columns]\n"
          ]
        }
      ]
    },
    {
      "cell_type": "code",
      "metadata": {
        "id": "7PObcoQWu0Hs"
      },
      "source": [
        "#Now I want to turn the movie columns into rows, such that I have the data in\n",
        "# an easier way to work with. Now I only have three columns.\n",
        "df3=df2.melt(id_vars=[\"user_id\"], \n",
        "        var_name=\"movie_id\", \n",
        "        value_name=\"rating\")"
      ],
      "execution_count": null,
      "outputs": []
    },
    {
      "cell_type": "code",
      "metadata": {
        "colab": {
          "base_uri": "https://localhost:8080/"
        },
        "id": "gCo2pD3KvoZq",
        "outputId": "409fc8ad-38cb-4717-da48-3e2e145ce838"
      },
      "source": [
        "print(df3)"
      ],
      "execution_count": null,
      "outputs": [
        {
          "output_type": "stream",
          "name": "stdout",
          "text": [
            "               user_id  movie_id  rating\n",
            "0       A3R5OBKS7OM2IR    Movie1     5.0\n",
            "1        AH3QC2PC1VTGP    Movie1     0.0\n",
            "2       A3LKP6WPMP9UKX    Movie1     0.0\n",
            "3        AVIY68KEPQ5ZD    Movie1     0.0\n",
            "4       A1CV1WROP5KTTW    Movie1     0.0\n",
            "...                ...       ...     ...\n",
            "998683  A1IMQ9WMFYKWH5  Movie206     5.0\n",
            "998684  A1KLIKPUF5E88I  Movie206     5.0\n",
            "998685   A5HG6WFZLO10D  Movie206     5.0\n",
            "998686  A3UU690TWXCG1X  Movie206     5.0\n",
            "998687   AI4J762YI6S06  Movie206     5.0\n",
            "\n",
            "[998688 rows x 3 columns]\n"
          ]
        }
      ]
    },
    {
      "cell_type": "code",
      "metadata": {
        "colab": {
          "base_uri": "https://localhost:8080/"
        },
        "id": "A_qsjcHDxFdy",
        "outputId": "dbff154f-0b16-4fb9-c8b9-9ed581030657"
      },
      "source": [
        "df3.dtypes"
      ],
      "execution_count": null,
      "outputs": [
        {
          "output_type": "execute_result",
          "data": {
            "text/plain": [
              "user_id      object\n",
              "movie_id     object\n",
              "rating      float64\n",
              "dtype: object"
            ]
          },
          "metadata": {},
          "execution_count": 160
        }
      ]
    },
    {
      "cell_type": "code",
      "metadata": {
        "id": "veumvtdH_AKB"
      },
      "source": [
        "# I will use the factorize function to assgin each unique user a number \n",
        "# to make it easy to work later. \n",
        "df3['user_id'] = pd.factorize(df3.user_id)[0]\n"
      ],
      "execution_count": null,
      "outputs": []
    },
    {
      "cell_type": "code",
      "metadata": {
        "colab": {
          "base_uri": "https://localhost:8080/"
        },
        "id": "sCBiO83eA-Mj",
        "outputId": "65ff46c5-6d69-44a0-96df-f340dd686a0d"
      },
      "source": [
        "print(df3)"
      ],
      "execution_count": null,
      "outputs": [
        {
          "output_type": "stream",
          "name": "stdout",
          "text": [
            "        user_id  movie_id  rating\n",
            "0             0    Movie1     5.0\n",
            "1             1    Movie1     0.0\n",
            "2             2    Movie1     0.0\n",
            "3             3    Movie1     0.0\n",
            "4             4    Movie1     0.0\n",
            "...         ...       ...     ...\n",
            "998683     4843  Movie206     5.0\n",
            "998684     4844  Movie206     5.0\n",
            "998685     4845  Movie206     5.0\n",
            "998686     4846  Movie206     5.0\n",
            "998687     4847  Movie206     5.0\n",
            "\n",
            "[998688 rows x 3 columns]\n"
          ]
        }
      ]
    },
    {
      "cell_type": "code",
      "metadata": {
        "colab": {
          "base_uri": "https://localhost:8080/"
        },
        "id": "EihKEcSQBWIa",
        "outputId": "4eed5af4-b3f5-4c83-b87d-1bf8a2649e82"
      },
      "source": [
        "# I will remove the letters from the movie names also to make things\n",
        "# easier to work with\n",
        "df3['movie_id']=df3['movie_id'].str.extract('(\\d+)', expand=False)\n",
        "print(df3)"
      ],
      "execution_count": null,
      "outputs": [
        {
          "output_type": "stream",
          "name": "stdout",
          "text": [
            "        user_id movie_id  rating\n",
            "0             0        1     5.0\n",
            "1             1        1     0.0\n",
            "2             2        1     0.0\n",
            "3             3        1     0.0\n",
            "4             4        1     0.0\n",
            "...         ...      ...     ...\n",
            "998683     4843      206     5.0\n",
            "998684     4844      206     5.0\n",
            "998685     4845      206     5.0\n",
            "998686     4846      206     5.0\n",
            "998687     4847      206     5.0\n",
            "\n",
            "[998688 rows x 3 columns]\n"
          ]
        }
      ]
    },
    {
      "cell_type": "code",
      "metadata": {
        "colab": {
          "base_uri": "https://localhost:8080/"
        },
        "id": "rloO4xupB2cQ",
        "outputId": "b5440f77-0fc1-432f-e4fd-5ec456bcb444"
      },
      "source": [
        "df3.dtypes"
      ],
      "execution_count": null,
      "outputs": [
        {
          "output_type": "execute_result",
          "data": {
            "text/plain": [
              "user_id       int64\n",
              "movie_id     object\n",
              "rating      float64\n",
              "dtype: object"
            ]
          },
          "metadata": {},
          "execution_count": 164
        }
      ]
    },
    {
      "cell_type": "code",
      "metadata": {
        "colab": {
          "base_uri": "https://localhost:8080/"
        },
        "id": "H05vtu5oCchu",
        "outputId": "c46d69e8-a94f-47b5-ca2c-30e5c43b3cb3"
      },
      "source": [
        "# I convert everything to integers.\n",
        "df3[\"user_id\"]=df3[\"user_id\"].astype(\"int\")\n",
        "df3[\"movie_id\"]=df3[\"movie_id\"].astype(\"int\")\n",
        "df3[\"rating\"]=df3[\"rating\"].astype(\"int\")\n",
        "\n",
        "df3.dtypes"
      ],
      "execution_count": null,
      "outputs": [
        {
          "output_type": "execute_result",
          "data": {
            "text/plain": [
              "user_id     int64\n",
              "movie_id    int64\n",
              "rating      int64\n",
              "dtype: object"
            ]
          },
          "metadata": {},
          "execution_count": 165
        }
      ]
    },
    {
      "cell_type": "code",
      "metadata": {
        "id": "w7cUmPXsp32Y"
      },
      "source": [
        "# now we follow the steps we learned in the course\n",
        "# we divide the data into training and test sets.\n",
        "\n",
        "from sklearn.model_selection import train_test_split\n",
        "n_users=df3.user_id.unique().shape[0]\n",
        "#print(n_users)\n",
        "n_movies=df3.movie_id.unique().shape[0]\n",
        "#print(n_movies)\n",
        "train_data,test_data = train_test_split(df3,test_size=0.25)"
      ],
      "execution_count": null,
      "outputs": []
    },
    {
      "cell_type": "code",
      "metadata": {
        "colab": {
          "base_uri": "https://localhost:8080/"
        },
        "id": "-aIbUM3_qfDA",
        "outputId": "97f39881-83f7-4d08-9c96-13b6cf98c1c9"
      },
      "source": [
        "# Now we create a zero matrix for the taining data\n",
        "# and populate it with the relevant values from the dataframe\n",
        "\n",
        "train_data_matrix=np.zeros((n_users,n_movies))\n",
        "#print(train_data_matrix)\n",
        "for line in train_data.itertuples():\n",
        "    train_data_matrix[line[1]-1,line[2]-1] = line[3]\n",
        "train_data_matrix"
      ],
      "execution_count": null,
      "outputs": [
        {
          "output_type": "execute_result",
          "data": {
            "text/plain": [
              "array([[0., 0., 2., ..., 0., 0., 0.],\n",
              "       [0., 0., 0., ..., 0., 0., 0.],\n",
              "       [0., 0., 0., ..., 0., 0., 0.],\n",
              "       ...,\n",
              "       [0., 0., 0., ..., 0., 0., 5.],\n",
              "       [0., 0., 0., ..., 0., 0., 5.],\n",
              "       [0., 0., 0., ..., 0., 0., 0.]])"
            ]
          },
          "metadata": {},
          "execution_count": 169
        }
      ]
    },
    {
      "cell_type": "code",
      "metadata": {
        "colab": {
          "base_uri": "https://localhost:8080/"
        },
        "id": "bAaWuSn5tagZ",
        "outputId": "2a02ea3c-cd0b-4175-ea3e-e00cf28563bd"
      },
      "source": [
        "# We do the same thing for the test data\n",
        "test_data_matrix=np.zeros((n_users,n_movies))\n",
        "for line in test_data.itertuples():\n",
        "    test_data_matrix[line[1]-1,line[2]-1] = line[3]\n",
        "test_data_matrix  "
      ],
      "execution_count": null,
      "outputs": [
        {
          "output_type": "execute_result",
          "data": {
            "text/plain": [
              "array([[0., 0., 0., ..., 0., 0., 0.],\n",
              "       [0., 0., 0., ..., 0., 0., 0.],\n",
              "       [0., 0., 0., ..., 0., 0., 0.],\n",
              "       ...,\n",
              "       [0., 0., 0., ..., 0., 0., 0.],\n",
              "       [0., 0., 0., ..., 0., 0., 0.],\n",
              "       [5., 5., 0., ..., 0., 0., 0.]])"
            ]
          },
          "metadata": {},
          "execution_count": 170
        }
      ]
    },
    {
      "cell_type": "code",
      "metadata": {
        "colab": {
          "base_uri": "https://localhost:8080/"
        },
        "id": "tRqKwH_jDzdn",
        "outputId": "762a256e-24e0-4135-fa10-3ce1b37d514f"
      },
      "source": [
        "# Now we use the cosie similarity matrices for the users \n",
        "# and the movies. This enables us to predict values for the\n",
        "# missing values based on the previous\n",
        "# ratings on users, and hence completing the task. \n",
        "\n",
        "from sklearn.metrics import pairwise_distances\n",
        "user_similarity = pairwise_distances(train_data_matrix,metric='cosine')\n",
        "movie_similarity = pairwise_distances(train_data_matrix.T,metric='cosine')\n",
        "mean_user_rating = train_data_matrix.mean(axis=1)[:,np.newaxis]\n",
        "ratings_diff=(train_data_matrix-mean_user_rating)\n",
        "user_pred=mean_user_rating+user_similarity.dot(ratings_diff)/np.array([np.abs(user_similarity).sum(axis=1)]).T\n",
        "user_pred"
      ],
      "execution_count": null,
      "outputs": [
        {
          "output_type": "execute_result",
          "data": {
            "text/plain": [
              "array([[-0.00710178, -0.00710178, -0.00710178, ..., -0.00194395,\n",
              "         0.01806843,  0.0050707 ],\n",
              "       [-0.01681252, -0.01681252, -0.0163999 , ..., -0.01165469,\n",
              "         0.00835769, -0.00464004],\n",
              "       [ 0.00746433,  0.00746433,  0.00787696, ...,  0.01262216,\n",
              "         0.03263454,  0.01963681],\n",
              "       ...,\n",
              "       [ 0.00748031,  0.00748031,  0.00789387, ...,  0.01264987,\n",
              "         0.03270777,  0.00748031],\n",
              "       [ 0.00748031,  0.00748031,  0.00789387, ...,  0.01264987,\n",
              "         0.03270777,  0.00748031],\n",
              "       [-0.01681252, -0.01681252, -0.0163999 , ..., -0.01165469,\n",
              "         0.00835769, -0.00464004]])"
            ]
          },
          "metadata": {},
          "execution_count": 171
        }
      ]
    },
    {
      "cell_type": "code",
      "metadata": {
        "id": "1yEjdYMoFwo-"
      },
      "source": [
        "#This generates raitings for all movies as required."
      ],
      "execution_count": null,
      "outputs": []
    }
  ]
}