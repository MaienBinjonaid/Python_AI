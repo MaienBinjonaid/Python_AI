{
  "nbformat": 4,
  "nbformat_minor": 0,
  "metadata": {
    "colab": {
      "name": "PGAI_DSwP_MaienBinjonaid_Project_Comcast.ipynb",
      "provenance": []
    },
    "kernelspec": {
      "name": "python3",
      "display_name": "Python 3"
    },
    "language_info": {
      "name": "python"
    }
  },
  "cells": [
    {
      "cell_type": "code",
      "metadata": {
        "id": "AYOF-llFIN0c"
      },
      "source": [
        "#Start with importing useful libraries: \n",
        "#Numpy for numerical calculations and \n",
        "#Pandas for data manipulation and analysis\n",
        "#Matplotlib for data visualization"
      ],
      "execution_count": null,
      "outputs": []
    },
    {
      "cell_type": "code",
      "metadata": {
        "id": "pE3aO7IJIuX8"
      },
      "source": [
        "import numpy as np\n",
        "import pandas as pd\n",
        "import matplotlib.pyplot as plt\n",
        "\n",
        "%matplotlib inline "
      ],
      "execution_count": null,
      "outputs": []
    },
    {
      "cell_type": "code",
      "metadata": {
        "id": "Wh3DsHpJkQ4t"
      },
      "source": [
        ""
      ],
      "execution_count": null,
      "outputs": []
    },
    {
      "cell_type": "code",
      "metadata": {
        "id": "gpQ8sqhVI8Wq"
      },
      "source": [
        "#Task 1: Imoprt the data\n",
        "df=pd.read_csv('/content/Comcast_telecom_complaints_data.csv')\n",
        "#print(df)\n",
        "#df.head(1)\n",
        "#Ticket #: Ticket number assigned to each complaint\n",
        "#Customer Complaint: Description of complaint\n",
        "#Date: Date of complaint\n",
        "#Time: Time of complaint\n",
        "#Received Via: Mode of communication of the complaint\n",
        "#City: Customer city\n",
        "#State: Customer state\n",
        "#Zipcode: Customer zip\n",
        "#Status: Status of complaint\n",
        "#Filing on behalf of someone"
      ],
      "execution_count": null,
      "outputs": []
    },
    {
      "cell_type": "code",
      "metadata": {
        "colab": {
          "base_uri": "https://localhost:8080/",
          "height": 341
        },
        "id": "45OS5_HCy_-O",
        "outputId": "a0de0192-4336-42fc-b04a-5b5daa346ce7"
      },
      "source": [
        "#Task 2: A) make chart of # of complaints against month. B) chart for # of complaints per day\n",
        "#To do so we need to use the to_datetime() function to convert the ‘Date’ column to a datetime object\n",
        "\n",
        "#A -we also use the function groupby \n",
        "\n",
        "df['month']=pd.to_datetime(df['Date_month_year']).dt.month_name()\n",
        "monthly_data=df.groupby(['month'])['Customer Complaint'].count()\n",
        "monthly_data.plot(kind='bar',color='green')\n"
      ],
      "execution_count": null,
      "outputs": [
        {
          "output_type": "execute_result",
          "data": {
            "text/plain": [
              "<matplotlib.axes._subplots.AxesSubplot at 0x7fcc55308710>"
            ]
          },
          "metadata": {
            "tags": []
          },
          "execution_count": 10
        },
        {
          "output_type": "display_data",
          "data": {
            "image/png": "[encoded data removed]",
            "text/plain": [
              "<Figure size 432x288 with 1 Axes>"
            ]
          },
          "metadata": {
            "tags": [],
            "needs_background": "light"
          }
        }
      ]
    },
    {
      "cell_type": "code",
      "metadata": {
        "id": "wnXC7Doy2EAD",
        "colab": {
          "base_uri": "https://localhost:8080/",
          "height": 299
        },
        "outputId": "3bc61dbb-582d-463d-8ca6-dce97f056e1f"
      },
      "source": [
        "df['day']=pd.to_datetime(df['Date_month_year']).dt.day\n",
        "daily_data=df.groupby(['day'])['Customer Complaint'].count()\n",
        "daily_data.plot(kind='bar',color='orange')"
      ],
      "execution_count": null,
      "outputs": [
        {
          "output_type": "execute_result",
          "data": {
            "text/plain": [
              "<matplotlib.axes._subplots.AxesSubplot at 0x7fcc55103a90>"
            ]
          },
          "metadata": {
            "tags": []
          },
          "execution_count": 11
        },
        {
          "output_type": "display_data",
          "data": {
            "image/png": "[encoded data removed]",
            "text/plain": [
              "<Figure size 432x288 with 1 Axes>"
            ]
          },
          "metadata": {
            "tags": [],
            "needs_background": "light"
          }
        }
      ]
    },
    {
      "cell_type": "code",
      "metadata": {
        "id": "7-rTkDYbd3gS"
      },
      "source": [
        "#Table of frequency of compliants\n",
        "complaints_freq=df['Customer Complaint'].value_counts()"
      ],
      "execution_count": null,
      "outputs": []
    },
    {
      "cell_type": "code",
      "metadata": {
        "colab": {
          "base_uri": "https://localhost:8080/",
          "height": 419
        },
        "id": "6wE4L8tlfjOM",
        "outputId": "58a2295a-2948-42d7-e1e7-5a9559d9a4a3"
      },
      "source": [
        "#put it into a nice table using to_frame()\n",
        "complaints_freq.to_frame()\n"
      ],
      "execution_count": null,
      "outputs": [
        {
          "output_type": "execute_result",
          "data": {
            "text/html": [
              "<div>\n",
              "<style scoped>\n",
              "    .dataframe tbody tr th:only-of-type {\n",
              "        vertical-align: middle;\n",
              "    }\n",
              "\n",
              "    .dataframe tbody tr th {\n",
              "        vertical-align: top;\n",
              "    }\n",
              "\n",
              "    .dataframe thead th {\n",
              "        text-align: right;\n",
              "    }\n",
              "</style>\n",
              "<table border=\"1\" class=\"dataframe\">\n",
              "  <thead>\n",
              "    <tr style=\"text-align: right;\">\n",
              "      <th></th>\n",
              "      <th>Customer Complaint</th>\n",
              "    </tr>\n",
              "  </thead>\n",
              "  <tbody>\n",
              "    <tr>\n",
              "      <th>Comcast</th>\n",
              "      <td>83</td>\n",
              "    </tr>\n",
              "    <tr>\n",
              "      <th>Comcast Internet</th>\n",
              "      <td>18</td>\n",
              "    </tr>\n",
              "    <tr>\n",
              "      <th>Comcast Data Cap</th>\n",
              "      <td>17</td>\n",
              "    </tr>\n",
              "    <tr>\n",
              "      <th>comcast</th>\n",
              "      <td>13</td>\n",
              "    </tr>\n",
              "    <tr>\n",
              "      <th>Comcast Data Caps</th>\n",
              "      <td>11</td>\n",
              "    </tr>\n",
              "    <tr>\n",
              "      <th>...</th>\n",
              "      <td>...</td>\n",
              "    </tr>\n",
              "    <tr>\n",
              "      <th>Bait and Switch again</th>\n",
              "      <td>1</td>\n",
              "    </tr>\n",
              "    <tr>\n",
              "      <th>Continued Calls from Comcast</th>\n",
              "      <td>1</td>\n",
              "    </tr>\n",
              "    <tr>\n",
              "      <th>FCC.gov website for complaints</th>\n",
              "      <td>1</td>\n",
              "    </tr>\n",
              "    <tr>\n",
              "      <th>Shady Internet Billing Practices from Comcast</th>\n",
              "      <td>1</td>\n",
              "    </tr>\n",
              "    <tr>\n",
              "      <th>Comcast Data usage caps</th>\n",
              "      <td>1</td>\n",
              "    </tr>\n",
              "  </tbody>\n",
              "</table>\n",
              "<p>1841 rows × 1 columns</p>\n",
              "</div>"
            ],
            "text/plain": [
              "                                               Customer Complaint\n",
              "Comcast                                                        83\n",
              "Comcast Internet                                               18\n",
              "Comcast Data Cap                                               17\n",
              "comcast                                                        13\n",
              "Comcast Data Caps                                              11\n",
              "...                                                           ...\n",
              "Bait and Switch again                                           1\n",
              "Continued Calls from Comcast                                    1\n",
              "FCC.gov website for complaints                                  1\n",
              "Shady Internet Billing Practices from Comcast                   1\n",
              "Comcast Data usage caps                                         1\n",
              "\n",
              "[1841 rows x 1 columns]"
            ]
          },
          "metadata": {
            "tags": []
          },
          "execution_count": 14
        }
      ]
    },
    {
      "cell_type": "code",
      "metadata": {
        "colab": {
          "base_uri": "https://localhost:8080/"
        },
        "id": "hCebK_Fdfsx7",
        "outputId": "68a48f38-5b69-45c4-a8d5-c7dcd4f85e08"
      },
      "source": [
        "#Maximum comp. type\n",
        "complaints_freq.head(1)"
      ],
      "execution_count": null,
      "outputs": [
        {
          "output_type": "execute_result",
          "data": {
            "text/plain": [
              "Comcast    83\n",
              "Name: Customer Complaint, dtype: int64"
            ]
          },
          "metadata": {
            "tags": []
          },
          "execution_count": 18
        }
      ]
    },
    {
      "cell_type": "code",
      "metadata": {
        "id": "1Ka9fIRVf_2U"
      },
      "source": [
        "#Let the status \"open\" or \"pending\" be open, and let \"solved\" or \"closed\" be closed\n",
        "#We use the functions apply to do this\n",
        "\n",
        "df['Status']=df['Status'].apply(lambda x: 'Open' if ((x=='Open') | (x=='Pending')) else 'Closed')\n"
      ],
      "execution_count": null,
      "outputs": []
    },
    {
      "cell_type": "code",
      "metadata": {
        "colab": {
          "base_uri": "https://localhost:8080/"
        },
        "id": "WaQx6aR-hXNu",
        "outputId": "bad95d1a-0a5e-4a55-99cf-391606230ae3"
      },
      "source": [
        "#making sure\n",
        "df['Status'].value_counts()"
      ],
      "execution_count": null,
      "outputs": [
        {
          "output_type": "execute_result",
          "data": {
            "text/plain": [
              "Closed    1707\n",
              "Open       517\n",
              "Name: Status, dtype: int64"
            ]
          },
          "metadata": {
            "tags": []
          },
          "execution_count": 22
        }
      ]
    },
    {
      "cell_type": "code",
      "metadata": {
        "colab": {
          "base_uri": "https://localhost:8080/",
          "height": 638
        },
        "id": "8x8Mv1kOhZqM",
        "outputId": "55c28879-b045-4ab3-a0fe-f7c84ff88fea"
      },
      "source": [
        "#Stacked bar chart\n",
        "\n",
        "open_cases=df[df['Status']=='Open'].groupby(['State'])['Status'].count().to_frame().reset_index()\n",
        "closed_cases=df[df['Status']=='Closed'].groupby(['State'])['Status'].count().to_frame().reset_index()\n",
        "\n",
        "chart=plt.figure(figsize=(10,10))\n",
        "plt.barh(closed_cases.State, closed_cases.Status)\n",
        "plt.barh(open_cases.State, open_cases.Status)\n",
        "\n",
        "plt.ylabel(\"State\", size=15)\n",
        "plt.xlabel(\"Status Count\")\n",
        "plt.legend([\"closed\", \"open\"])\n",
        "plt.title(\"state vs status count\")"
      ],
      "execution_count": null,
      "outputs": [
        {
          "output_type": "execute_result",
          "data": {
            "text/plain": [
              "Text(0.5, 1.0, 'state vs status count')"
            ]
          },
          "metadata": {
            "tags": []
          },
          "execution_count": 23
        },
        {
          "output_type": "display_data",
          "data": {
            "image/png": "[encoded data removed]",
            "text/plain": [
              "<Figure size 720x720 with 1 Axes>"
            ]
          },
          "metadata": {
            "tags": [],
            "needs_background": "light"
          }
        }
      ]
    },
    {
      "cell_type": "code",
      "metadata": {
        "colab": {
          "base_uri": "https://localhost:8080/"
        },
        "id": "D2dAgMQ8iZ8R",
        "outputId": "bfef07a2-ca69-433b-f7ba-5bf923c403ec"
      },
      "source": [
        "#Max complaints\n",
        "complaints_per_state=df.groupby(['State'])['Customer Complaint'].count()\n",
        "#complaints_per_state.max()\n",
        "complaints_per_state"
      ],
      "execution_count": null,
      "outputs": [
        {
          "output_type": "execute_result",
          "data": {
            "text/plain": [
              "State\n",
              "Alabama                  26\n",
              "Arizona                  20\n",
              "Arkansas                  6\n",
              "California              220\n",
              "Colorado                 80\n",
              "Connecticut              12\n",
              "Delaware                 12\n",
              "District Of Columbia     16\n",
              "District of Columbia      1\n",
              "Florida                 240\n",
              "Georgia                 288\n",
              "Illinois                164\n",
              "Indiana                  59\n",
              "Iowa                      1\n",
              "Kansas                    2\n",
              "Kentucky                  7\n",
              "Louisiana                13\n",
              "Maine                     5\n",
              "Maryland                 78\n",
              "Massachusetts            61\n",
              "Michigan                115\n",
              "Minnesota                33\n",
              "Mississippi              39\n",
              "Missouri                  4\n",
              "Montana                   1\n",
              "Nevada                    1\n",
              "New Hampshire            12\n",
              "New Jersey               75\n",
              "New Mexico               15\n",
              "New York                  6\n",
              "North Carolina            3\n",
              "Ohio                      3\n",
              "Oregon                   49\n",
              "Pennsylvania            130\n",
              "Rhode Island              1\n",
              "South Carolina           18\n",
              "Tennessee               143\n",
              "Texas                    71\n",
              "Utah                     22\n",
              "Vermont                   3\n",
              "Virginia                 60\n",
              "Washington               98\n",
              "West Virginia            11\n",
              "Name: Customer Complaint, dtype: int64"
            ]
          },
          "metadata": {
            "tags": []
          },
          "execution_count": 48
        }
      ]
    },
    {
      "cell_type": "code",
      "metadata": {
        "colab": {
          "base_uri": "https://localhost:8080/",
          "height": 35
        },
        "id": "hp3ZHYVOi9Dk",
        "outputId": "db450e55-1f79-4454-fb94-53dcd6336e71"
      },
      "source": [
        "#Gorgia has the maximum comnplaints.\n",
        "'Gorgia'"
      ],
      "execution_count": null,
      "outputs": [
        {
          "output_type": "execute_result",
          "data": {
            "application/vnd.google.colaboratory.intrinsic+json": {
              "type": "string"
            },
            "text/plain": [
              "'Gorgia'"
            ]
          },
          "metadata": {
            "tags": []
          },
          "execution_count": 49
        }
      ]
    },
    {
      "cell_type": "code",
      "metadata": {
        "colab": {
          "base_uri": "https://localhost:8080/"
        },
        "id": "r-JNgPakkKP8",
        "outputId": "0c153769-7f99-4f94-8f64-40e8d5b196ed"
      },
      "source": [
        "#Percentage of complaints resolved\n",
        "df[df['Status']=='Closed'].groupby('Status')['Received Via'].value_counts(normalize=True)*100\n"
      ],
      "execution_count": null,
      "outputs": [
        {
          "output_type": "execute_result",
          "data": {
            "text/plain": [
              "Status  Received Via      \n",
              "Closed  Customer Care Call    50.615114\n",
              "        Internet              49.384886\n",
              "Name: Received Via, dtype: float64"
            ]
          },
          "metadata": {
            "tags": []
          },
          "execution_count": 50
        }
      ]
    },
    {
      "cell_type": "code",
      "metadata": {
        "id": "naA5fHTZk_11"
      },
      "source": [
        ""
      ],
      "execution_count": null,
      "outputs": []
    }
  ]
}